{
 "cells": [
  {
   "cell_type": "markdown",
   "id": "46230226",
   "metadata": {},
   "source": [
    "# Importing Libraries"
   ]
  },
  {
   "cell_type": "code",
   "execution_count": 1,
   "id": "3f3cea84",
   "metadata": {},
   "outputs": [],
   "source": [
    "import numpy as np\n",
    "import pandas as pd\n",
    "import matplotlib.pyplot as plt\n",
    "import seaborn as sns"
   ]
  },
  {
   "cell_type": "markdown",
   "id": "8921d9c8",
   "metadata": {},
   "source": [
    "# Importing Dataset"
   ]
  },
  {
   "cell_type": "code",
   "execution_count": 2,
   "id": "ff662d17",
   "metadata": {},
   "outputs": [],
   "source": [
    "data=pd.read_excel(\"E:\\\\Addidas EDA AND ML Project\\\\Adidas US Sales Datasets.xlsx\")"
   ]
  },
  {
   "cell_type": "code",
   "execution_count": 3,
   "id": "196ec45e",
   "metadata": {},
   "outputs": [
    {
     "data": {
      "text/html": [
       "<div>\n",
       "<style scoped>\n",
       "    .dataframe tbody tr th:only-of-type {\n",
       "        vertical-align: middle;\n",
       "    }\n",
       "\n",
       "    .dataframe tbody tr th {\n",
       "        vertical-align: top;\n",
       "    }\n",
       "\n",
       "    .dataframe thead th {\n",
       "        text-align: right;\n",
       "    }\n",
       "</style>\n",
       "<table border=\"1\" class=\"dataframe\">\n",
       "  <thead>\n",
       "    <tr style=\"text-align: right;\">\n",
       "      <th></th>\n",
       "      <th>Unnamed: 0</th>\n",
       "      <th>Unnamed: 1</th>\n",
       "      <th>Unnamed: 2</th>\n",
       "      <th>Unnamed: 3</th>\n",
       "      <th>Unnamed: 4</th>\n",
       "      <th>Unnamed: 5</th>\n",
       "      <th>Unnamed: 6</th>\n",
       "      <th>Unnamed: 7</th>\n",
       "      <th>Unnamed: 8</th>\n",
       "      <th>Unnamed: 9</th>\n",
       "      <th>Unnamed: 10</th>\n",
       "      <th>Unnamed: 11</th>\n",
       "      <th>Unnamed: 12</th>\n",
       "      <th>Unnamed: 13</th>\n",
       "    </tr>\n",
       "  </thead>\n",
       "  <tbody>\n",
       "    <tr>\n",
       "      <th>0</th>\n",
       "      <td>NaN</td>\n",
       "      <td>NaN</td>\n",
       "      <td>Adidas Sales Database</td>\n",
       "      <td>NaN</td>\n",
       "      <td>NaN</td>\n",
       "      <td>NaN</td>\n",
       "      <td>NaN</td>\n",
       "      <td>NaN</td>\n",
       "      <td>NaN</td>\n",
       "      <td>NaN</td>\n",
       "      <td>NaN</td>\n",
       "      <td>NaN</td>\n",
       "      <td>NaN</td>\n",
       "      <td>NaN</td>\n",
       "    </tr>\n",
       "    <tr>\n",
       "      <th>1</th>\n",
       "      <td>NaN</td>\n",
       "      <td>NaN</td>\n",
       "      <td>NaN</td>\n",
       "      <td>NaN</td>\n",
       "      <td>NaN</td>\n",
       "      <td>NaN</td>\n",
       "      <td>NaN</td>\n",
       "      <td>NaN</td>\n",
       "      <td>NaN</td>\n",
       "      <td>NaN</td>\n",
       "      <td>NaN</td>\n",
       "      <td>NaN</td>\n",
       "      <td>NaN</td>\n",
       "      <td>NaN</td>\n",
       "    </tr>\n",
       "    <tr>\n",
       "      <th>2</th>\n",
       "      <td>NaN</td>\n",
       "      <td>NaN</td>\n",
       "      <td>NaN</td>\n",
       "      <td>NaN</td>\n",
       "      <td>NaN</td>\n",
       "      <td>NaN</td>\n",
       "      <td>NaN</td>\n",
       "      <td>NaN</td>\n",
       "      <td>NaN</td>\n",
       "      <td>NaN</td>\n",
       "      <td>NaN</td>\n",
       "      <td>NaN</td>\n",
       "      <td>NaN</td>\n",
       "      <td>NaN</td>\n",
       "    </tr>\n",
       "    <tr>\n",
       "      <th>3</th>\n",
       "      <td>NaN</td>\n",
       "      <td>Retailer</td>\n",
       "      <td>Retailer ID</td>\n",
       "      <td>Invoice Date</td>\n",
       "      <td>Region</td>\n",
       "      <td>State</td>\n",
       "      <td>City</td>\n",
       "      <td>Product</td>\n",
       "      <td>Price per Unit</td>\n",
       "      <td>Units Sold</td>\n",
       "      <td>Total Sales</td>\n",
       "      <td>Operating Profit</td>\n",
       "      <td>Operating Margin</td>\n",
       "      <td>Sales Method</td>\n",
       "    </tr>\n",
       "    <tr>\n",
       "      <th>4</th>\n",
       "      <td>NaN</td>\n",
       "      <td>Foot Locker</td>\n",
       "      <td>1185732</td>\n",
       "      <td>2020-01-01 00:00:00</td>\n",
       "      <td>Northeast</td>\n",
       "      <td>New York</td>\n",
       "      <td>New York</td>\n",
       "      <td>Men's Street Footwear</td>\n",
       "      <td>50</td>\n",
       "      <td>1200</td>\n",
       "      <td>600000</td>\n",
       "      <td>300000</td>\n",
       "      <td>0.5</td>\n",
       "      <td>In-store</td>\n",
       "    </tr>\n",
       "  </tbody>\n",
       "</table>\n",
       "</div>"
      ],
      "text/plain": [
       "   Unnamed: 0   Unnamed: 1             Unnamed: 2           Unnamed: 3  \\\n",
       "0         NaN          NaN  Adidas Sales Database                  NaN   \n",
       "1         NaN          NaN                    NaN                  NaN   \n",
       "2         NaN          NaN                    NaN                  NaN   \n",
       "3         NaN     Retailer            Retailer ID         Invoice Date   \n",
       "4         NaN  Foot Locker                1185732  2020-01-01 00:00:00   \n",
       "\n",
       "  Unnamed: 4 Unnamed: 5 Unnamed: 6             Unnamed: 7      Unnamed: 8  \\\n",
       "0        NaN        NaN        NaN                    NaN             NaN   \n",
       "1        NaN        NaN        NaN                    NaN             NaN   \n",
       "2        NaN        NaN        NaN                    NaN             NaN   \n",
       "3     Region      State       City                Product  Price per Unit   \n",
       "4  Northeast   New York   New York  Men's Street Footwear              50   \n",
       "\n",
       "   Unnamed: 9  Unnamed: 10       Unnamed: 11       Unnamed: 12   Unnamed: 13  \n",
       "0         NaN          NaN               NaN               NaN           NaN  \n",
       "1         NaN          NaN               NaN               NaN           NaN  \n",
       "2         NaN          NaN               NaN               NaN           NaN  \n",
       "3  Units Sold  Total Sales  Operating Profit  Operating Margin  Sales Method  \n",
       "4        1200       600000            300000               0.5      In-store  "
      ]
     },
     "execution_count": 3,
     "metadata": {},
     "output_type": "execute_result"
    }
   ],
   "source": [
    "data.head()"
   ]
  },
  {
   "cell_type": "code",
   "execution_count": 4,
   "id": "e25ab4b3",
   "metadata": {},
   "outputs": [
    {
     "name": "stdout",
     "output_type": "stream",
     "text": [
      "<class 'pandas.core.frame.DataFrame'>\n",
      "RangeIndex: 9652 entries, 0 to 9651\n",
      "Data columns (total 14 columns):\n",
      " #   Column       Non-Null Count  Dtype  \n",
      "---  ------       --------------  -----  \n",
      " 0   Unnamed: 0   0 non-null      float64\n",
      " 1   Unnamed: 1   9649 non-null   object \n",
      " 2   Unnamed: 2   9650 non-null   object \n",
      " 3   Unnamed: 3   9649 non-null   object \n",
      " 4   Unnamed: 4   9649 non-null   object \n",
      " 5   Unnamed: 5   9649 non-null   object \n",
      " 6   Unnamed: 6   9649 non-null   object \n",
      " 7   Unnamed: 7   9649 non-null   object \n",
      " 8   Unnamed: 8   9649 non-null   object \n",
      " 9   Unnamed: 9   9649 non-null   object \n",
      " 10  Unnamed: 10  9649 non-null   object \n",
      " 11  Unnamed: 11  9649 non-null   object \n",
      " 12  Unnamed: 12  9649 non-null   object \n",
      " 13  Unnamed: 13  9649 non-null   object \n",
      "dtypes: float64(1), object(13)\n",
      "memory usage: 1.0+ MB\n"
     ]
    }
   ],
   "source": [
    "data.info()"
   ]
  },
  {
   "cell_type": "code",
   "execution_count": 6,
   "id": "35922b13",
   "metadata": {},
   "outputs": [
    {
     "data": {
      "text/plain": [
       "(9652, 14)"
      ]
     },
     "execution_count": 6,
     "metadata": {},
     "output_type": "execute_result"
    }
   ],
   "source": [
    "data.shape"
   ]
  },
  {
   "cell_type": "code",
   "execution_count": 10,
   "id": "252b6a22",
   "metadata": {},
   "outputs": [],
   "source": [
    "#Removing columns (unnamed \"0\")\n",
    "data=data.drop(\"Unnamed: 0\",axis=1)"
   ]
  },
  {
   "cell_type": "code",
   "execution_count": 11,
   "id": "669cafa2",
   "metadata": {},
   "outputs": [],
   "source": [
    "#Removing 0,1,2 rows \n",
    "data=data.drop(index=[0,1,2],axis=0)"
   ]
  },
  {
   "cell_type": "code",
   "execution_count": 13,
   "id": "f8a2ef29",
   "metadata": {},
   "outputs": [],
   "source": [
    "#Changeing the columns name\n",
    "data.columns = data.iloc[0]"
   ]
  },
  {
   "cell_type": "code",
   "execution_count": 14,
   "id": "8b48239e",
   "metadata": {},
   "outputs": [
    {
     "data": {
      "text/html": [
       "<div>\n",
       "<style scoped>\n",
       "    .dataframe tbody tr th:only-of-type {\n",
       "        vertical-align: middle;\n",
       "    }\n",
       "\n",
       "    .dataframe tbody tr th {\n",
       "        vertical-align: top;\n",
       "    }\n",
       "\n",
       "    .dataframe thead th {\n",
       "        text-align: right;\n",
       "    }\n",
       "</style>\n",
       "<table border=\"1\" class=\"dataframe\">\n",
       "  <thead>\n",
       "    <tr style=\"text-align: right;\">\n",
       "      <th>3</th>\n",
       "      <th>Retailer</th>\n",
       "      <th>Retailer ID</th>\n",
       "      <th>Invoice Date</th>\n",
       "      <th>Region</th>\n",
       "      <th>State</th>\n",
       "      <th>City</th>\n",
       "      <th>Product</th>\n",
       "      <th>Price per Unit</th>\n",
       "      <th>Units Sold</th>\n",
       "      <th>Total Sales</th>\n",
       "      <th>Operating Profit</th>\n",
       "      <th>Operating Margin</th>\n",
       "      <th>Sales Method</th>\n",
       "    </tr>\n",
       "  </thead>\n",
       "  <tbody>\n",
       "    <tr>\n",
       "      <th>3</th>\n",
       "      <td>Retailer</td>\n",
       "      <td>Retailer ID</td>\n",
       "      <td>Invoice Date</td>\n",
       "      <td>Region</td>\n",
       "      <td>State</td>\n",
       "      <td>City</td>\n",
       "      <td>Product</td>\n",
       "      <td>Price per Unit</td>\n",
       "      <td>Units Sold</td>\n",
       "      <td>Total Sales</td>\n",
       "      <td>Operating Profit</td>\n",
       "      <td>Operating Margin</td>\n",
       "      <td>Sales Method</td>\n",
       "    </tr>\n",
       "    <tr>\n",
       "      <th>4</th>\n",
       "      <td>Foot Locker</td>\n",
       "      <td>1185732</td>\n",
       "      <td>2020-01-01 00:00:00</td>\n",
       "      <td>Northeast</td>\n",
       "      <td>New York</td>\n",
       "      <td>New York</td>\n",
       "      <td>Men's Street Footwear</td>\n",
       "      <td>50</td>\n",
       "      <td>1200</td>\n",
       "      <td>600000</td>\n",
       "      <td>300000</td>\n",
       "      <td>0.5</td>\n",
       "      <td>In-store</td>\n",
       "    </tr>\n",
       "    <tr>\n",
       "      <th>5</th>\n",
       "      <td>Foot Locker</td>\n",
       "      <td>1185732</td>\n",
       "      <td>2020-01-02 00:00:00</td>\n",
       "      <td>Northeast</td>\n",
       "      <td>New York</td>\n",
       "      <td>New York</td>\n",
       "      <td>Men's Athletic Footwear</td>\n",
       "      <td>50</td>\n",
       "      <td>1000</td>\n",
       "      <td>500000</td>\n",
       "      <td>150000</td>\n",
       "      <td>0.3</td>\n",
       "      <td>In-store</td>\n",
       "    </tr>\n",
       "    <tr>\n",
       "      <th>6</th>\n",
       "      <td>Foot Locker</td>\n",
       "      <td>1185732</td>\n",
       "      <td>2020-01-03 00:00:00</td>\n",
       "      <td>Northeast</td>\n",
       "      <td>New York</td>\n",
       "      <td>New York</td>\n",
       "      <td>Women's Street Footwear</td>\n",
       "      <td>40</td>\n",
       "      <td>1000</td>\n",
       "      <td>400000</td>\n",
       "      <td>140000</td>\n",
       "      <td>0.35</td>\n",
       "      <td>In-store</td>\n",
       "    </tr>\n",
       "    <tr>\n",
       "      <th>7</th>\n",
       "      <td>Foot Locker</td>\n",
       "      <td>1185732</td>\n",
       "      <td>2020-01-04 00:00:00</td>\n",
       "      <td>Northeast</td>\n",
       "      <td>New York</td>\n",
       "      <td>New York</td>\n",
       "      <td>Women's Athletic Footwear</td>\n",
       "      <td>45</td>\n",
       "      <td>850</td>\n",
       "      <td>382500</td>\n",
       "      <td>133875</td>\n",
       "      <td>0.35</td>\n",
       "      <td>In-store</td>\n",
       "    </tr>\n",
       "  </tbody>\n",
       "</table>\n",
       "</div>"
      ],
      "text/plain": [
       "3     Retailer  Retailer ID         Invoice Date     Region     State  \\\n",
       "3     Retailer  Retailer ID         Invoice Date     Region     State   \n",
       "4  Foot Locker      1185732  2020-01-01 00:00:00  Northeast  New York   \n",
       "5  Foot Locker      1185732  2020-01-02 00:00:00  Northeast  New York   \n",
       "6  Foot Locker      1185732  2020-01-03 00:00:00  Northeast  New York   \n",
       "7  Foot Locker      1185732  2020-01-04 00:00:00  Northeast  New York   \n",
       "\n",
       "3      City                    Product  Price per Unit  Units Sold  \\\n",
       "3      City                    Product  Price per Unit  Units Sold   \n",
       "4  New York      Men's Street Footwear              50        1200   \n",
       "5  New York    Men's Athletic Footwear              50        1000   \n",
       "6  New York    Women's Street Footwear              40        1000   \n",
       "7  New York  Women's Athletic Footwear              45         850   \n",
       "\n",
       "3  Total Sales  Operating Profit  Operating Margin  Sales Method  \n",
       "3  Total Sales  Operating Profit  Operating Margin  Sales Method  \n",
       "4       600000            300000               0.5      In-store  \n",
       "5       500000            150000               0.3      In-store  \n",
       "6       400000            140000              0.35      In-store  \n",
       "7       382500            133875              0.35      In-store  "
      ]
     },
     "execution_count": 14,
     "metadata": {},
     "output_type": "execute_result"
    }
   ],
   "source": [
    "data.head()"
   ]
  },
  {
   "cell_type": "code",
   "execution_count": 15,
   "id": "673e9288",
   "metadata": {},
   "outputs": [],
   "source": [
    "#Removing the first row\n",
    "data=data.drop(index=3,axis=0)"
   ]
  },
  {
   "cell_type": "code",
   "execution_count": 16,
   "id": "6110526d",
   "metadata": {},
   "outputs": [],
   "source": [
    "#Reset the index values\n",
    "data=data.reset_index(drop=True)"
   ]
  },
  {
   "cell_type": "code",
   "execution_count": 17,
   "id": "8891285f",
   "metadata": {},
   "outputs": [
    {
     "data": {
      "text/html": [
       "<div>\n",
       "<style scoped>\n",
       "    .dataframe tbody tr th:only-of-type {\n",
       "        vertical-align: middle;\n",
       "    }\n",
       "\n",
       "    .dataframe tbody tr th {\n",
       "        vertical-align: top;\n",
       "    }\n",
       "\n",
       "    .dataframe thead th {\n",
       "        text-align: right;\n",
       "    }\n",
       "</style>\n",
       "<table border=\"1\" class=\"dataframe\">\n",
       "  <thead>\n",
       "    <tr style=\"text-align: right;\">\n",
       "      <th>3</th>\n",
       "      <th>Retailer</th>\n",
       "      <th>Retailer ID</th>\n",
       "      <th>Invoice Date</th>\n",
       "      <th>Region</th>\n",
       "      <th>State</th>\n",
       "      <th>City</th>\n",
       "      <th>Product</th>\n",
       "      <th>Price per Unit</th>\n",
       "      <th>Units Sold</th>\n",
       "      <th>Total Sales</th>\n",
       "      <th>Operating Profit</th>\n",
       "      <th>Operating Margin</th>\n",
       "      <th>Sales Method</th>\n",
       "    </tr>\n",
       "  </thead>\n",
       "  <tbody>\n",
       "    <tr>\n",
       "      <th>0</th>\n",
       "      <td>Foot Locker</td>\n",
       "      <td>1185732</td>\n",
       "      <td>2020-01-01 00:00:00</td>\n",
       "      <td>Northeast</td>\n",
       "      <td>New York</td>\n",
       "      <td>New York</td>\n",
       "      <td>Men's Street Footwear</td>\n",
       "      <td>50</td>\n",
       "      <td>1200</td>\n",
       "      <td>600000</td>\n",
       "      <td>300000</td>\n",
       "      <td>0.5</td>\n",
       "      <td>In-store</td>\n",
       "    </tr>\n",
       "    <tr>\n",
       "      <th>1</th>\n",
       "      <td>Foot Locker</td>\n",
       "      <td>1185732</td>\n",
       "      <td>2020-01-02 00:00:00</td>\n",
       "      <td>Northeast</td>\n",
       "      <td>New York</td>\n",
       "      <td>New York</td>\n",
       "      <td>Men's Athletic Footwear</td>\n",
       "      <td>50</td>\n",
       "      <td>1000</td>\n",
       "      <td>500000</td>\n",
       "      <td>150000</td>\n",
       "      <td>0.3</td>\n",
       "      <td>In-store</td>\n",
       "    </tr>\n",
       "    <tr>\n",
       "      <th>2</th>\n",
       "      <td>Foot Locker</td>\n",
       "      <td>1185732</td>\n",
       "      <td>2020-01-03 00:00:00</td>\n",
       "      <td>Northeast</td>\n",
       "      <td>New York</td>\n",
       "      <td>New York</td>\n",
       "      <td>Women's Street Footwear</td>\n",
       "      <td>40</td>\n",
       "      <td>1000</td>\n",
       "      <td>400000</td>\n",
       "      <td>140000</td>\n",
       "      <td>0.35</td>\n",
       "      <td>In-store</td>\n",
       "    </tr>\n",
       "    <tr>\n",
       "      <th>3</th>\n",
       "      <td>Foot Locker</td>\n",
       "      <td>1185732</td>\n",
       "      <td>2020-01-04 00:00:00</td>\n",
       "      <td>Northeast</td>\n",
       "      <td>New York</td>\n",
       "      <td>New York</td>\n",
       "      <td>Women's Athletic Footwear</td>\n",
       "      <td>45</td>\n",
       "      <td>850</td>\n",
       "      <td>382500</td>\n",
       "      <td>133875</td>\n",
       "      <td>0.35</td>\n",
       "      <td>In-store</td>\n",
       "    </tr>\n",
       "    <tr>\n",
       "      <th>4</th>\n",
       "      <td>Foot Locker</td>\n",
       "      <td>1185732</td>\n",
       "      <td>2020-01-05 00:00:00</td>\n",
       "      <td>Northeast</td>\n",
       "      <td>New York</td>\n",
       "      <td>New York</td>\n",
       "      <td>Men's Apparel</td>\n",
       "      <td>60</td>\n",
       "      <td>900</td>\n",
       "      <td>540000</td>\n",
       "      <td>162000</td>\n",
       "      <td>0.3</td>\n",
       "      <td>In-store</td>\n",
       "    </tr>\n",
       "  </tbody>\n",
       "</table>\n",
       "</div>"
      ],
      "text/plain": [
       "3     Retailer Retailer ID         Invoice Date     Region     State  \\\n",
       "0  Foot Locker     1185732  2020-01-01 00:00:00  Northeast  New York   \n",
       "1  Foot Locker     1185732  2020-01-02 00:00:00  Northeast  New York   \n",
       "2  Foot Locker     1185732  2020-01-03 00:00:00  Northeast  New York   \n",
       "3  Foot Locker     1185732  2020-01-04 00:00:00  Northeast  New York   \n",
       "4  Foot Locker     1185732  2020-01-05 00:00:00  Northeast  New York   \n",
       "\n",
       "3      City                    Product Price per Unit Units Sold Total Sales  \\\n",
       "0  New York      Men's Street Footwear             50       1200      600000   \n",
       "1  New York    Men's Athletic Footwear             50       1000      500000   \n",
       "2  New York    Women's Street Footwear             40       1000      400000   \n",
       "3  New York  Women's Athletic Footwear             45        850      382500   \n",
       "4  New York              Men's Apparel             60        900      540000   \n",
       "\n",
       "3 Operating Profit Operating Margin Sales Method  \n",
       "0           300000              0.5     In-store  \n",
       "1           150000              0.3     In-store  \n",
       "2           140000             0.35     In-store  \n",
       "3           133875             0.35     In-store  \n",
       "4           162000              0.3     In-store  "
      ]
     },
     "execution_count": 17,
     "metadata": {},
     "output_type": "execute_result"
    }
   ],
   "source": [
    "data.head()"
   ]
  },
  {
   "cell_type": "code",
   "execution_count": 18,
   "id": "1d04e650",
   "metadata": {},
   "outputs": [
    {
     "name": "stdout",
     "output_type": "stream",
     "text": [
      "<class 'pandas.core.frame.DataFrame'>\n",
      "RangeIndex: 9648 entries, 0 to 9647\n",
      "Data columns (total 13 columns):\n",
      " #   Column            Non-Null Count  Dtype \n",
      "---  ------            --------------  ----- \n",
      " 0   Retailer          9648 non-null   object\n",
      " 1   Retailer ID       9648 non-null   object\n",
      " 2   Invoice Date      9648 non-null   object\n",
      " 3   Region            9648 non-null   object\n",
      " 4   State             9648 non-null   object\n",
      " 5   City              9648 non-null   object\n",
      " 6   Product           9648 non-null   object\n",
      " 7   Price per Unit    9648 non-null   object\n",
      " 8   Units Sold        9648 non-null   object\n",
      " 9   Total Sales       9648 non-null   object\n",
      " 10  Operating Profit  9648 non-null   object\n",
      " 11  Operating Margin  9648 non-null   object\n",
      " 12  Sales Method      9648 non-null   object\n",
      "dtypes: object(13)\n",
      "memory usage: 980.0+ KB\n"
     ]
    }
   ],
   "source": [
    "data.info()"
   ]
  },
  {
   "cell_type": "code",
   "execution_count": 19,
   "id": "23bb01cd",
   "metadata": {},
   "outputs": [
    {
     "data": {
      "text/html": [
       "<div>\n",
       "<style scoped>\n",
       "    .dataframe tbody tr th:only-of-type {\n",
       "        vertical-align: middle;\n",
       "    }\n",
       "\n",
       "    .dataframe tbody tr th {\n",
       "        vertical-align: top;\n",
       "    }\n",
       "\n",
       "    .dataframe thead th {\n",
       "        text-align: right;\n",
       "    }\n",
       "</style>\n",
       "<table border=\"1\" class=\"dataframe\">\n",
       "  <thead>\n",
       "    <tr style=\"text-align: right;\">\n",
       "      <th>3</th>\n",
       "      <th>Retailer</th>\n",
       "      <th>Retailer ID</th>\n",
       "      <th>Invoice Date</th>\n",
       "      <th>Region</th>\n",
       "      <th>State</th>\n",
       "      <th>City</th>\n",
       "      <th>Product</th>\n",
       "      <th>Price per Unit</th>\n",
       "      <th>Units Sold</th>\n",
       "      <th>Total Sales</th>\n",
       "      <th>Operating Profit</th>\n",
       "      <th>Operating Margin</th>\n",
       "      <th>Sales Method</th>\n",
       "    </tr>\n",
       "  </thead>\n",
       "  <tbody>\n",
       "    <tr>\n",
       "      <th>count</th>\n",
       "      <td>9648</td>\n",
       "      <td>9648</td>\n",
       "      <td>9648</td>\n",
       "      <td>9648</td>\n",
       "      <td>9648</td>\n",
       "      <td>9648</td>\n",
       "      <td>9648</td>\n",
       "      <td>9648.0</td>\n",
       "      <td>9648</td>\n",
       "      <td>9648.0</td>\n",
       "      <td>9648.0</td>\n",
       "      <td>9648.00</td>\n",
       "      <td>9648</td>\n",
       "    </tr>\n",
       "    <tr>\n",
       "      <th>unique</th>\n",
       "      <td>6</td>\n",
       "      <td>4</td>\n",
       "      <td>724</td>\n",
       "      <td>5</td>\n",
       "      <td>50</td>\n",
       "      <td>52</td>\n",
       "      <td>6</td>\n",
       "      <td>146.0</td>\n",
       "      <td>361</td>\n",
       "      <td>3512.0</td>\n",
       "      <td>6510.0</td>\n",
       "      <td>127.00</td>\n",
       "      <td>3</td>\n",
       "    </tr>\n",
       "    <tr>\n",
       "      <th>top</th>\n",
       "      <td>Foot Locker</td>\n",
       "      <td>1185732</td>\n",
       "      <td>2021-01-17 00:00:00</td>\n",
       "      <td>West</td>\n",
       "      <td>California</td>\n",
       "      <td>Portland</td>\n",
       "      <td>Men's Street Footwear</td>\n",
       "      <td>50.0</td>\n",
       "      <td>225</td>\n",
       "      <td>100000.0</td>\n",
       "      <td>21000.0</td>\n",
       "      <td>0.35</td>\n",
       "      <td>Online</td>\n",
       "    </tr>\n",
       "    <tr>\n",
       "      <th>freq</th>\n",
       "      <td>2637</td>\n",
       "      <td>5265</td>\n",
       "      <td>77</td>\n",
       "      <td>2448</td>\n",
       "      <td>432</td>\n",
       "      <td>360</td>\n",
       "      <td>1610</td>\n",
       "      <td>557.0</td>\n",
       "      <td>207</td>\n",
       "      <td>52.0</td>\n",
       "      <td>34.0</td>\n",
       "      <td>1229.00</td>\n",
       "      <td>4889</td>\n",
       "    </tr>\n",
       "  </tbody>\n",
       "</table>\n",
       "</div>"
      ],
      "text/plain": [
       "3          Retailer  Retailer ID         Invoice Date Region       State  \\\n",
       "count          9648         9648                 9648   9648        9648   \n",
       "unique            6            4                  724      5          50   \n",
       "top     Foot Locker      1185732  2021-01-17 00:00:00   West  California   \n",
       "freq           2637         5265                   77   2448         432   \n",
       "\n",
       "3           City                Product  Price per Unit  Units Sold  \\\n",
       "count       9648                   9648          9648.0        9648   \n",
       "unique        52                      6           146.0         361   \n",
       "top     Portland  Men's Street Footwear            50.0         225   \n",
       "freq         360                   1610           557.0         207   \n",
       "\n",
       "3       Total Sales  Operating Profit  Operating Margin Sales Method  \n",
       "count        9648.0            9648.0           9648.00         9648  \n",
       "unique       3512.0            6510.0            127.00            3  \n",
       "top        100000.0           21000.0              0.35       Online  \n",
       "freq           52.0              34.0           1229.00         4889  "
      ]
     },
     "execution_count": 19,
     "metadata": {},
     "output_type": "execute_result"
    }
   ],
   "source": [
    "data.describe()"
   ]
  },
  {
   "cell_type": "markdown",
   "id": "c0b0632f",
   "metadata": {},
   "source": [
    "# Top Products"
   ]
  },
  {
   "cell_type": "code",
   "execution_count": 20,
   "id": "76cb576e",
   "metadata": {},
   "outputs": [],
   "source": [
    "top_products=data[['Product','Total Sales']].groupby('Product').sum()"
   ]
  },
  {
   "cell_type": "code",
   "execution_count": 22,
   "id": "d0e5e493",
   "metadata": {},
   "outputs": [
    {
     "data": {
      "text/html": [
       "<div>\n",
       "<style scoped>\n",
       "    .dataframe tbody tr th:only-of-type {\n",
       "        vertical-align: middle;\n",
       "    }\n",
       "\n",
       "    .dataframe tbody tr th {\n",
       "        vertical-align: top;\n",
       "    }\n",
       "\n",
       "    .dataframe thead th {\n",
       "        text-align: right;\n",
       "    }\n",
       "</style>\n",
       "<table border=\"1\" class=\"dataframe\">\n",
       "  <thead>\n",
       "    <tr style=\"text-align: right;\">\n",
       "      <th>3</th>\n",
       "      <th>Total Sales</th>\n",
       "    </tr>\n",
       "    <tr>\n",
       "      <th>Product</th>\n",
       "      <th></th>\n",
       "    </tr>\n",
       "  </thead>\n",
       "  <tbody>\n",
       "    <tr>\n",
       "      <th>Men's Apparel</th>\n",
       "      <td>123728632.0</td>\n",
       "    </tr>\n",
       "    <tr>\n",
       "      <th>Men's Athletic Footwear</th>\n",
       "      <td>153673680.0</td>\n",
       "    </tr>\n",
       "    <tr>\n",
       "      <th>Men's Street Footwear</th>\n",
       "      <td>208826244.0</td>\n",
       "    </tr>\n",
       "    <tr>\n",
       "      <th>Women's Apparel</th>\n",
       "      <td>179038860.0</td>\n",
       "    </tr>\n",
       "    <tr>\n",
       "      <th>Women's Athletic Footwear</th>\n",
       "      <td>106631896.0</td>\n",
       "    </tr>\n",
       "    <tr>\n",
       "      <th>Women's Street Footwear</th>\n",
       "      <td>128002813.0</td>\n",
       "    </tr>\n",
       "  </tbody>\n",
       "</table>\n",
       "</div>"
      ],
      "text/plain": [
       "3                          Total Sales\n",
       "Product                               \n",
       "Men's Apparel              123728632.0\n",
       "Men's Athletic Footwear    153673680.0\n",
       "Men's Street Footwear      208826244.0\n",
       "Women's Apparel            179038860.0\n",
       "Women's Athletic Footwear  106631896.0\n",
       "Women's Street Footwear    128002813.0"
      ]
     },
     "execution_count": 22,
     "metadata": {},
     "output_type": "execute_result"
    }
   ],
   "source": [
    "top_products"
   ]
  },
  {
   "cell_type": "code",
   "execution_count": 23,
   "id": "2ecf82b0",
   "metadata": {},
   "outputs": [
    {
     "data": {
      "image/png": "[encoded data removed]",
      "text/plain": [
       "<Figure size 1200x700 with 1 Axes>"
      ]
     },
     "metadata": {},
     "output_type": "display_data"
    }
   ],
   "source": [
    "#Plot a bar chart\n",
    "top_products.plot(kind=\"bar\",figsize=(12,7),title='Total sales per Product')\n",
    "plt.show()"
   ]
  },
  {
   "cell_type": "markdown",
   "id": "60047837",
   "metadata": {},
   "source": [
    "# Top Retailers"
   ]
  },
  {
   "cell_type": "code",
   "execution_count": 24,
   "id": "1da63dd3",
   "metadata": {},
   "outputs": [],
   "source": [
    "top_retailers=data[['Retailer','Total Sales']].groupby('Retailer').sum()"
   ]
  },
  {
   "cell_type": "code",
   "execution_count": 28,
   "id": "840aadd0",
   "metadata": {},
   "outputs": [
    {
     "data": {
      "text/plain": [
       "array([<Axes: ylabel='Total Sales'>], dtype=object)"
      ]
     },
     "execution_count": 28,
     "metadata": {},
     "output_type": "execute_result"
    },
    {
     "data": {
      "image/png": "[encoded data removed]",
      "text/plain": [
       "<Figure size 1200x700 with 1 Axes>"
      ]
     },
     "metadata": {},
     "output_type": "display_data"
    }
   ],
   "source": [
    "top_retailers.plot(kind='pie',subplots=True,figsize=(12,7),title='Total sales per Retailer',autopct='%1.2f%%')"
   ]
  },
  {
   "cell_type": "markdown",
   "id": "c90f3d14",
   "metadata": {},
   "source": [
    "# Price Per Unit"
   ]
  },
  {
   "cell_type": "code",
   "execution_count": 33,
   "id": "3a640512",
   "metadata": {},
   "outputs": [],
   "source": [
    "plt.style.use('ggplot')"
   ]
  },
  {
   "cell_type": "code",
   "execution_count": 34,
   "id": "8fecf7b5",
   "metadata": {},
   "outputs": [
    {
     "data": {
      "text/plain": [
       "<Axes: title={'center': 'Products price distribution'}, ylabel='Frequency'>"
      ]
     },
     "execution_count": 34,
     "metadata": {},
     "output_type": "execute_result"
    },
    {
     "data": {
      "image/png": "[encoded data removed]",
      "text/plain": [
       "<Figure size 1200x700 with 1 Axes>"
      ]
     },
     "metadata": {},
     "output_type": "display_data"
    }
   ],
   "source": [
    "data['Price per Unit'].plot(kind='hist',bins=25,figsize=(12,7),title='Products price distribution')"
   ]
  },
  {
   "cell_type": "code",
   "execution_count": 35,
   "id": "0b093e53",
   "metadata": {},
   "outputs": [
    {
     "data": {
      "text/plain": [
       "45.21662520729685"
      ]
     },
     "execution_count": 35,
     "metadata": {},
     "output_type": "execute_result"
    }
   ],
   "source": [
    "data['Price per Unit'].mean()"
   ]
  },
  {
   "cell_type": "markdown",
   "id": "ed476576",
   "metadata": {},
   "source": [
    "# Total Sales : "
   ]
  },
  {
   "cell_type": "code",
   "execution_count": 36,
   "id": "6ef3c642",
   "metadata": {},
   "outputs": [
    {
     "data": {
      "text/plain": [
       "Index(['Retailer', 'Retailer ID', 'Invoice Date', 'Region', 'State', 'City',\n",
       "       'Product', 'Price per Unit', 'Units Sold', 'Total Sales',\n",
       "       'Operating Profit', 'Operating Margin', 'Sales Method'],\n",
       "      dtype='object', name=3)"
      ]
     },
     "execution_count": 36,
     "metadata": {},
     "output_type": "execute_result"
    }
   ],
   "source": [
    "data.columns"
   ]
  },
  {
   "cell_type": "code",
   "execution_count": 37,
   "id": "d63bf90d",
   "metadata": {},
   "outputs": [],
   "source": [
    "top_salesmt= data[['Sales Method','Total Sales']].groupby('Sales Method').sum()"
   ]
  },
  {
   "cell_type": "code",
   "execution_count": 39,
   "id": "fb0be1a4",
   "metadata": {},
   "outputs": [
    {
     "data": {
      "text/plain": [
       "<Axes: title={'center': 'Top Selling Methods'}, ylabel='Sales Method'>"
      ]
     },
     "execution_count": 39,
     "metadata": {},
     "output_type": "execute_result"
    },
    {
     "data": {
      "image/png": "[encoded data removed]",
      "text/plain": [
       "<Figure size 640x480 with 1 Axes>"
      ]
     },
     "metadata": {},
     "output_type": "display_data"
    }
   ],
   "source": [
    "top_salesmt.plot(kind='barh',title='Top Selling Methods')"
   ]
  },
  {
   "cell_type": "markdown",
   "id": "d74de0d8",
   "metadata": {},
   "source": [
    "# Machine Learning "
   ]
  },
  {
   "cell_type": "code",
   "execution_count": 43,
   "id": "066b0834",
   "metadata": {},
   "outputs": [],
   "source": [
    "from sklearn.model_selection import train_test_split\n",
    "from sklearn.linear_model import LinearRegression\n",
    "from sklearn import metrics\n",
    "from sklearn.metrics import r2_score"
   ]
  },
  {
   "cell_type": "code",
   "execution_count": 44,
   "id": "cc4e6b27",
   "metadata": {},
   "outputs": [
    {
     "data": {
      "text/html": [
       "<div>\n",
       "<style scoped>\n",
       "    .dataframe tbody tr th:only-of-type {\n",
       "        vertical-align: middle;\n",
       "    }\n",
       "\n",
       "    .dataframe tbody tr th {\n",
       "        vertical-align: top;\n",
       "    }\n",
       "\n",
       "    .dataframe thead th {\n",
       "        text-align: right;\n",
       "    }\n",
       "</style>\n",
       "<table border=\"1\" class=\"dataframe\">\n",
       "  <thead>\n",
       "    <tr style=\"text-align: right;\">\n",
       "      <th>3</th>\n",
       "      <th>Retailer</th>\n",
       "      <th>Retailer ID</th>\n",
       "      <th>Invoice Date</th>\n",
       "      <th>Region</th>\n",
       "      <th>State</th>\n",
       "      <th>City</th>\n",
       "      <th>Product</th>\n",
       "      <th>Price per Unit</th>\n",
       "      <th>Units Sold</th>\n",
       "      <th>Total Sales</th>\n",
       "      <th>Operating Profit</th>\n",
       "      <th>Operating Margin</th>\n",
       "      <th>Sales Method</th>\n",
       "    </tr>\n",
       "  </thead>\n",
       "  <tbody>\n",
       "    <tr>\n",
       "      <th>0</th>\n",
       "      <td>Foot Locker</td>\n",
       "      <td>1185732</td>\n",
       "      <td>2020-01-01 00:00:00</td>\n",
       "      <td>Northeast</td>\n",
       "      <td>New York</td>\n",
       "      <td>New York</td>\n",
       "      <td>Men's Street Footwear</td>\n",
       "      <td>50</td>\n",
       "      <td>1200</td>\n",
       "      <td>600000</td>\n",
       "      <td>300000</td>\n",
       "      <td>0.5</td>\n",
       "      <td>In-store</td>\n",
       "    </tr>\n",
       "    <tr>\n",
       "      <th>1</th>\n",
       "      <td>Foot Locker</td>\n",
       "      <td>1185732</td>\n",
       "      <td>2020-01-02 00:00:00</td>\n",
       "      <td>Northeast</td>\n",
       "      <td>New York</td>\n",
       "      <td>New York</td>\n",
       "      <td>Men's Athletic Footwear</td>\n",
       "      <td>50</td>\n",
       "      <td>1000</td>\n",
       "      <td>500000</td>\n",
       "      <td>150000</td>\n",
       "      <td>0.3</td>\n",
       "      <td>In-store</td>\n",
       "    </tr>\n",
       "    <tr>\n",
       "      <th>2</th>\n",
       "      <td>Foot Locker</td>\n",
       "      <td>1185732</td>\n",
       "      <td>2020-01-03 00:00:00</td>\n",
       "      <td>Northeast</td>\n",
       "      <td>New York</td>\n",
       "      <td>New York</td>\n",
       "      <td>Women's Street Footwear</td>\n",
       "      <td>40</td>\n",
       "      <td>1000</td>\n",
       "      <td>400000</td>\n",
       "      <td>140000</td>\n",
       "      <td>0.35</td>\n",
       "      <td>In-store</td>\n",
       "    </tr>\n",
       "    <tr>\n",
       "      <th>3</th>\n",
       "      <td>Foot Locker</td>\n",
       "      <td>1185732</td>\n",
       "      <td>2020-01-04 00:00:00</td>\n",
       "      <td>Northeast</td>\n",
       "      <td>New York</td>\n",
       "      <td>New York</td>\n",
       "      <td>Women's Athletic Footwear</td>\n",
       "      <td>45</td>\n",
       "      <td>850</td>\n",
       "      <td>382500</td>\n",
       "      <td>133875</td>\n",
       "      <td>0.35</td>\n",
       "      <td>In-store</td>\n",
       "    </tr>\n",
       "    <tr>\n",
       "      <th>4</th>\n",
       "      <td>Foot Locker</td>\n",
       "      <td>1185732</td>\n",
       "      <td>2020-01-05 00:00:00</td>\n",
       "      <td>Northeast</td>\n",
       "      <td>New York</td>\n",
       "      <td>New York</td>\n",
       "      <td>Men's Apparel</td>\n",
       "      <td>60</td>\n",
       "      <td>900</td>\n",
       "      <td>540000</td>\n",
       "      <td>162000</td>\n",
       "      <td>0.3</td>\n",
       "      <td>In-store</td>\n",
       "    </tr>\n",
       "  </tbody>\n",
       "</table>\n",
       "</div>"
      ],
      "text/plain": [
       "3     Retailer Retailer ID         Invoice Date     Region     State  \\\n",
       "0  Foot Locker     1185732  2020-01-01 00:00:00  Northeast  New York   \n",
       "1  Foot Locker     1185732  2020-01-02 00:00:00  Northeast  New York   \n",
       "2  Foot Locker     1185732  2020-01-03 00:00:00  Northeast  New York   \n",
       "3  Foot Locker     1185732  2020-01-04 00:00:00  Northeast  New York   \n",
       "4  Foot Locker     1185732  2020-01-05 00:00:00  Northeast  New York   \n",
       "\n",
       "3      City                    Product Price per Unit Units Sold Total Sales  \\\n",
       "0  New York      Men's Street Footwear             50       1200      600000   \n",
       "1  New York    Men's Athletic Footwear             50       1000      500000   \n",
       "2  New York    Women's Street Footwear             40       1000      400000   \n",
       "3  New York  Women's Athletic Footwear             45        850      382500   \n",
       "4  New York              Men's Apparel             60        900      540000   \n",
       "\n",
       "3 Operating Profit Operating Margin Sales Method  \n",
       "0           300000              0.5     In-store  \n",
       "1           150000              0.3     In-store  \n",
       "2           140000             0.35     In-store  \n",
       "3           133875             0.35     In-store  \n",
       "4           162000              0.3     In-store  "
      ]
     },
     "execution_count": 44,
     "metadata": {},
     "output_type": "execute_result"
    }
   ],
   "source": [
    "data.head()"
   ]
  },
  {
   "cell_type": "code",
   "execution_count": 45,
   "id": "8ff0400a",
   "metadata": {},
   "outputs": [],
   "source": [
    "data2=data.copy()"
   ]
  },
  {
   "cell_type": "code",
   "execution_count": 47,
   "id": "83887ff6",
   "metadata": {},
   "outputs": [],
   "source": [
    "data2['Region']=pd.factorize(data2.Region)[0]\n",
    "data2['State']=pd.factorize(data2.State)[0]\n",
    "data2['City']=pd.factorize(data2.City)[0]\n",
    "data2['Product']=pd.factorize(data2.Product)[0]\n",
    "data2['Retailer']=pd.factorize(data2.Retailer)[0]"
   ]
  },
  {
   "cell_type": "code",
   "execution_count": 48,
   "id": "e8f22c7a",
   "metadata": {},
   "outputs": [],
   "source": [
    "data2.rename(columns= {'Sales Method' : 'Method'}, inplace = True)"
   ]
  },
  {
   "cell_type": "code",
   "execution_count": 49,
   "id": "4cc3171d",
   "metadata": {},
   "outputs": [],
   "source": [
    "data2['Method']=pd.factorize(data2.Method)[0]"
   ]
  },
  {
   "cell_type": "code",
   "execution_count": 50,
   "id": "116cb12a",
   "metadata": {},
   "outputs": [],
   "source": [
    "data2 = data2.drop('Retailer ID', axis=1)"
   ]
  },
  {
   "cell_type": "code",
   "execution_count": 51,
   "id": "f9bfdec6",
   "metadata": {},
   "outputs": [],
   "source": [
    "data2 = data2.drop('Invoice Date', axis=1)"
   ]
  },
  {
   "cell_type": "code",
   "execution_count": 52,
   "id": "5a95750f",
   "metadata": {},
   "outputs": [
    {
     "data": {
      "text/html": [
       "<div>\n",
       "<style scoped>\n",
       "    .dataframe tbody tr th:only-of-type {\n",
       "        vertical-align: middle;\n",
       "    }\n",
       "\n",
       "    .dataframe tbody tr th {\n",
       "        vertical-align: top;\n",
       "    }\n",
       "\n",
       "    .dataframe thead th {\n",
       "        text-align: right;\n",
       "    }\n",
       "</style>\n",
       "<table border=\"1\" class=\"dataframe\">\n",
       "  <thead>\n",
       "    <tr style=\"text-align: right;\">\n",
       "      <th>3</th>\n",
       "      <th>Retailer</th>\n",
       "      <th>Region</th>\n",
       "      <th>State</th>\n",
       "      <th>City</th>\n",
       "      <th>Product</th>\n",
       "      <th>Price per Unit</th>\n",
       "      <th>Units Sold</th>\n",
       "      <th>Total Sales</th>\n",
       "      <th>Operating Profit</th>\n",
       "      <th>Operating Margin</th>\n",
       "      <th>Method</th>\n",
       "    </tr>\n",
       "  </thead>\n",
       "  <tbody>\n",
       "    <tr>\n",
       "      <th>0</th>\n",
       "      <td>0</td>\n",
       "      <td>0</td>\n",
       "      <td>0</td>\n",
       "      <td>0</td>\n",
       "      <td>0</td>\n",
       "      <td>50</td>\n",
       "      <td>1200</td>\n",
       "      <td>600000</td>\n",
       "      <td>300000</td>\n",
       "      <td>0.5</td>\n",
       "      <td>0</td>\n",
       "    </tr>\n",
       "    <tr>\n",
       "      <th>1</th>\n",
       "      <td>0</td>\n",
       "      <td>0</td>\n",
       "      <td>0</td>\n",
       "      <td>0</td>\n",
       "      <td>1</td>\n",
       "      <td>50</td>\n",
       "      <td>1000</td>\n",
       "      <td>500000</td>\n",
       "      <td>150000</td>\n",
       "      <td>0.3</td>\n",
       "      <td>0</td>\n",
       "    </tr>\n",
       "    <tr>\n",
       "      <th>2</th>\n",
       "      <td>0</td>\n",
       "      <td>0</td>\n",
       "      <td>0</td>\n",
       "      <td>0</td>\n",
       "      <td>2</td>\n",
       "      <td>40</td>\n",
       "      <td>1000</td>\n",
       "      <td>400000</td>\n",
       "      <td>140000</td>\n",
       "      <td>0.35</td>\n",
       "      <td>0</td>\n",
       "    </tr>\n",
       "    <tr>\n",
       "      <th>3</th>\n",
       "      <td>0</td>\n",
       "      <td>0</td>\n",
       "      <td>0</td>\n",
       "      <td>0</td>\n",
       "      <td>3</td>\n",
       "      <td>45</td>\n",
       "      <td>850</td>\n",
       "      <td>382500</td>\n",
       "      <td>133875</td>\n",
       "      <td>0.35</td>\n",
       "      <td>0</td>\n",
       "    </tr>\n",
       "    <tr>\n",
       "      <th>4</th>\n",
       "      <td>0</td>\n",
       "      <td>0</td>\n",
       "      <td>0</td>\n",
       "      <td>0</td>\n",
       "      <td>4</td>\n",
       "      <td>60</td>\n",
       "      <td>900</td>\n",
       "      <td>540000</td>\n",
       "      <td>162000</td>\n",
       "      <td>0.3</td>\n",
       "      <td>0</td>\n",
       "    </tr>\n",
       "  </tbody>\n",
       "</table>\n",
       "</div>"
      ],
      "text/plain": [
       "3  Retailer  Region  State  City  Product Price per Unit Units Sold  \\\n",
       "0         0       0      0     0        0             50       1200   \n",
       "1         0       0      0     0        1             50       1000   \n",
       "2         0       0      0     0        2             40       1000   \n",
       "3         0       0      0     0        3             45        850   \n",
       "4         0       0      0     0        4             60        900   \n",
       "\n",
       "3 Total Sales Operating Profit Operating Margin  Method  \n",
       "0      600000           300000              0.5       0  \n",
       "1      500000           150000              0.3       0  \n",
       "2      400000           140000             0.35       0  \n",
       "3      382500           133875             0.35       0  \n",
       "4      540000           162000              0.3       0  "
      ]
     },
     "execution_count": 52,
     "metadata": {},
     "output_type": "execute_result"
    }
   ],
   "source": [
    "data2.head()"
   ]
  },
  {
   "cell_type": "code",
   "execution_count": 53,
   "id": "3d786d02",
   "metadata": {},
   "outputs": [],
   "source": [
    "data2['Units Sold'] = data2['Units Sold'].astype(int)\n",
    "data2['Total Sales'] = data2['Total Sales'].astype(int)\n",
    "data2['Operating Profit'] = data2['Operating Profit'].astype(int)\n",
    "data2['Retailer'] = data2['Retailer'].astype(int)"
   ]
  },
  {
   "cell_type": "code",
   "execution_count": 54,
   "id": "db159d8b",
   "metadata": {},
   "outputs": [
    {
     "name": "stdout",
     "output_type": "stream",
     "text": [
      "<class 'pandas.core.frame.DataFrame'>\n",
      "RangeIndex: 9648 entries, 0 to 9647\n",
      "Data columns (total 11 columns):\n",
      " #   Column            Non-Null Count  Dtype \n",
      "---  ------            --------------  ----- \n",
      " 0   Retailer          9648 non-null   int32 \n",
      " 1   Region            9648 non-null   int64 \n",
      " 2   State             9648 non-null   int64 \n",
      " 3   City              9648 non-null   int64 \n",
      " 4   Product           9648 non-null   int64 \n",
      " 5   Price per Unit    9648 non-null   object\n",
      " 6   Units Sold        9648 non-null   int32 \n",
      " 7   Total Sales       9648 non-null   int32 \n",
      " 8   Operating Profit  9648 non-null   int32 \n",
      " 9   Operating Margin  9648 non-null   object\n",
      " 10  Method            9648 non-null   int64 \n",
      "dtypes: int32(4), int64(5), object(2)\n",
      "memory usage: 678.5+ KB\n"
     ]
    }
   ],
   "source": [
    "data2.info()"
   ]
  },
  {
   "cell_type": "code",
   "execution_count": 55,
   "id": "da19d082",
   "metadata": {},
   "outputs": [
    {
     "name": "stderr",
     "output_type": "stream",
     "text": [
      "C:\\Users\\shash\\AppData\\Local\\Temp\\ipykernel_19464\\3910069476.py:1: FutureWarning: The default value of numeric_only in DataFrame.corr is deprecated. In a future version, it will default to False. Select only valid columns or specify the value of numeric_only to silence this warning.\n",
      "  corr=data2.corr()\n"
     ]
    }
   ],
   "source": [
    "corr=data2.corr()"
   ]
  },
  {
   "cell_type": "code",
   "execution_count": 56,
   "id": "4ba686de",
   "metadata": {},
   "outputs": [
    {
     "name": "stdout",
     "output_type": "stream",
     "text": [
      "3                 Retailer    Region     State      City   Product  \\\n",
      "3                                                                    \n",
      "Retailer          1.000000 -0.097952  0.096816  0.096194  0.002262   \n",
      "Region           -0.097952  1.000000 -0.209003 -0.176060 -0.000121   \n",
      "State             0.096816 -0.209003  1.000000  0.976045  0.000367   \n",
      "City              0.096194 -0.176060  0.976045  1.000000  0.000393   \n",
      "Product           0.002262 -0.000121  0.000367  0.000393  1.000000   \n",
      "Units Sold        0.007130  0.095324 -0.251792 -0.244089 -0.177418   \n",
      "Total Sales       0.016339  0.079305 -0.158281 -0.151011 -0.055138   \n",
      "Operating Profit  0.012788  0.072539 -0.145209 -0.137264 -0.054475   \n",
      "Method           -0.005612  0.130336 -0.013363 -0.011398 -0.000524   \n",
      "\n",
      "3                 Units Sold  Total Sales  Operating Profit    Method  \n",
      "3                                                                      \n",
      "Retailer            0.007130     0.016339          0.012788 -0.005612  \n",
      "Region              0.095324     0.079305          0.072539  0.130336  \n",
      "State              -0.251792    -0.158281         -0.145209 -0.013363  \n",
      "City               -0.244089    -0.151011         -0.137264 -0.011398  \n",
      "Product            -0.177418    -0.055138         -0.054475 -0.000524  \n",
      "Units Sold          1.000000     0.913431          0.892380 -0.355552  \n",
      "Total Sales         0.913431     1.000000          0.956308 -0.386012  \n",
      "Operating Profit    0.892380     0.956308          1.000000 -0.350035  \n",
      "Method             -0.355552    -0.386012         -0.350035  1.000000  \n"
     ]
    }
   ],
   "source": [
    "print(corr)"
   ]
  },
  {
   "cell_type": "code",
   "execution_count": 57,
   "id": "543f72f1",
   "metadata": {},
   "outputs": [
    {
     "name": "stderr",
     "output_type": "stream",
     "text": [
      "C:\\Users\\shash\\AppData\\Local\\Temp\\ipykernel_19464\\1026004696.py:1: FutureWarning: The default value of numeric_only in DataFrame.corr is deprecated. In a future version, it will default to False. Select only valid columns or specify the value of numeric_only to silence this warning.\n",
      "  sns.heatmap(data2.corr())\n"
     ]
    },
    {
     "data": {
      "text/plain": [
       "<Axes: xlabel='3', ylabel='3'>"
      ]
     },
     "execution_count": 57,
     "metadata": {},
     "output_type": "execute_result"
    },
    {
     "data": {
      "image/png": "[encoded data removed]",
      "text/plain": [
       "<Figure size 640x480 with 2 Axes>"
      ]
     },
     "metadata": {},
     "output_type": "display_data"
    }
   ],
   "source": [
    "sns.heatmap(data2.corr())"
   ]
  },
  {
   "cell_type": "markdown",
   "id": "1d9deb03",
   "metadata": {},
   "source": [
    "# Sales Prediction using Multiple Linear Regression Model:"
   ]
  },
  {
   "cell_type": "code",
   "execution_count": 58,
   "id": "2887a6d2",
   "metadata": {},
   "outputs": [],
   "source": [
    "X= data2.values[:,(0,1,2,3,4,5,6,8,9,10)]\n",
    "Y= data2.values[:, 7]"
   ]
  },
  {
   "cell_type": "code",
   "execution_count": 59,
   "id": "c15828bb",
   "metadata": {},
   "outputs": [
    {
     "data": {
      "text/plain": [
       "array([600000, 500000, 400000, ..., 7544, 2940, 2407], dtype=object)"
      ]
     },
     "execution_count": 59,
     "metadata": {},
     "output_type": "execute_result"
    }
   ],
   "source": [
    "Y"
   ]
  },
  {
   "cell_type": "code",
   "execution_count": 60,
   "id": "adc31c7d",
   "metadata": {},
   "outputs": [
    {
     "data": {
      "text/plain": [
       "(9648, 10)"
      ]
     },
     "execution_count": 60,
     "metadata": {},
     "output_type": "execute_result"
    }
   ],
   "source": [
    "X.shape"
   ]
  },
  {
   "cell_type": "code",
   "execution_count": 61,
   "id": "948a7e6f",
   "metadata": {},
   "outputs": [
    {
     "data": {
      "text/html": [
       "<div>\n",
       "<style scoped>\n",
       "    .dataframe tbody tr th:only-of-type {\n",
       "        vertical-align: middle;\n",
       "    }\n",
       "\n",
       "    .dataframe tbody tr th {\n",
       "        vertical-align: top;\n",
       "    }\n",
       "\n",
       "    .dataframe thead th {\n",
       "        text-align: right;\n",
       "    }\n",
       "</style>\n",
       "<table border=\"1\" class=\"dataframe\">\n",
       "  <thead>\n",
       "    <tr style=\"text-align: right;\">\n",
       "      <th>3</th>\n",
       "      <th>Retailer</th>\n",
       "      <th>Region</th>\n",
       "      <th>State</th>\n",
       "      <th>City</th>\n",
       "      <th>Product</th>\n",
       "      <th>Price per Unit</th>\n",
       "      <th>Units Sold</th>\n",
       "      <th>Total Sales</th>\n",
       "      <th>Operating Profit</th>\n",
       "      <th>Operating Margin</th>\n",
       "      <th>Method</th>\n",
       "    </tr>\n",
       "  </thead>\n",
       "  <tbody>\n",
       "    <tr>\n",
       "      <th>0</th>\n",
       "      <td>0</td>\n",
       "      <td>0</td>\n",
       "      <td>0</td>\n",
       "      <td>0</td>\n",
       "      <td>0</td>\n",
       "      <td>50</td>\n",
       "      <td>1200</td>\n",
       "      <td>600000</td>\n",
       "      <td>300000</td>\n",
       "      <td>0.5</td>\n",
       "      <td>0</td>\n",
       "    </tr>\n",
       "    <tr>\n",
       "      <th>1</th>\n",
       "      <td>0</td>\n",
       "      <td>0</td>\n",
       "      <td>0</td>\n",
       "      <td>0</td>\n",
       "      <td>1</td>\n",
       "      <td>50</td>\n",
       "      <td>1000</td>\n",
       "      <td>500000</td>\n",
       "      <td>150000</td>\n",
       "      <td>0.3</td>\n",
       "      <td>0</td>\n",
       "    </tr>\n",
       "    <tr>\n",
       "      <th>2</th>\n",
       "      <td>0</td>\n",
       "      <td>0</td>\n",
       "      <td>0</td>\n",
       "      <td>0</td>\n",
       "      <td>2</td>\n",
       "      <td>40</td>\n",
       "      <td>1000</td>\n",
       "      <td>400000</td>\n",
       "      <td>140000</td>\n",
       "      <td>0.35</td>\n",
       "      <td>0</td>\n",
       "    </tr>\n",
       "    <tr>\n",
       "      <th>3</th>\n",
       "      <td>0</td>\n",
       "      <td>0</td>\n",
       "      <td>0</td>\n",
       "      <td>0</td>\n",
       "      <td>3</td>\n",
       "      <td>45</td>\n",
       "      <td>850</td>\n",
       "      <td>382500</td>\n",
       "      <td>133875</td>\n",
       "      <td>0.35</td>\n",
       "      <td>0</td>\n",
       "    </tr>\n",
       "    <tr>\n",
       "      <th>4</th>\n",
       "      <td>0</td>\n",
       "      <td>0</td>\n",
       "      <td>0</td>\n",
       "      <td>0</td>\n",
       "      <td>4</td>\n",
       "      <td>60</td>\n",
       "      <td>900</td>\n",
       "      <td>540000</td>\n",
       "      <td>162000</td>\n",
       "      <td>0.3</td>\n",
       "      <td>0</td>\n",
       "    </tr>\n",
       "  </tbody>\n",
       "</table>\n",
       "</div>"
      ],
      "text/plain": [
       "3  Retailer  Region  State  City  Product Price per Unit  Units Sold  \\\n",
       "0         0       0      0     0        0             50        1200   \n",
       "1         0       0      0     0        1             50        1000   \n",
       "2         0       0      0     0        2             40        1000   \n",
       "3         0       0      0     0        3             45         850   \n",
       "4         0       0      0     0        4             60         900   \n",
       "\n",
       "3  Total Sales  Operating Profit Operating Margin  Method  \n",
       "0       600000            300000              0.5       0  \n",
       "1       500000            150000              0.3       0  \n",
       "2       400000            140000             0.35       0  \n",
       "3       382500            133875             0.35       0  \n",
       "4       540000            162000              0.3       0  "
      ]
     },
     "execution_count": 61,
     "metadata": {},
     "output_type": "execute_result"
    }
   ],
   "source": [
    "data2.head()"
   ]
  },
  {
   "cell_type": "code",
   "execution_count": 62,
   "id": "24e874ba",
   "metadata": {},
   "outputs": [],
   "source": [
    "X_train, X_test, y_train, y_test = train_test_split(X, Y, test_size= 0.25, random_state=0)"
   ]
  },
  {
   "cell_type": "code",
   "execution_count": 63,
   "id": "dbcc34a4",
   "metadata": {},
   "outputs": [],
   "source": [
    "lr= LinearRegression()"
   ]
  },
  {
   "cell_type": "code",
   "execution_count": 64,
   "id": "d2f181f6",
   "metadata": {},
   "outputs": [
    {
     "data": {
      "text/html": [
       "<style>#sk-container-id-1 {color: black;background-color: white;}#sk-container-id-1 pre{padding: 0;}#sk-container-id-1 div.sk-toggleable {background-color: white;}#sk-container-id-1 label.sk-toggleable__label {cursor: pointer;display: block;width: 100%;margin-bottom: 0;padding: 0.3em;box-sizing: border-box;text-align: center;}#sk-container-id-1 label.sk-toggleable__label-arrow:before {content: \"▸\";float: left;margin-right: 0.25em;color: #696969;}#sk-container-id-1 label.sk-toggleable__label-arrow:hover:before {color: black;}#sk-container-id-1 div.sk-estimator:hover label.sk-toggleable__label-arrow:before {color: black;}#sk-container-id-1 div.sk-toggleable__content {max-height: 0;max-width: 0;overflow: hidden;text-align: left;background-color: #f0f8ff;}#sk-container-id-1 div.sk-toggleable__content pre {margin: 0.2em;color: black;border-radius: 0.25em;background-color: #f0f8ff;}#sk-container-id-1 input.sk-toggleable__control:checked~div.sk-toggleable__content {max-height: 200px;max-width: 100%;overflow: auto;}#sk-container-id-1 input.sk-toggleable__control:checked~label.sk-toggleable__label-arrow:before {content: \"▾\";}#sk-container-id-1 div.sk-estimator input.sk-toggleable__control:checked~label.sk-toggleable__label {background-color: #d4ebff;}#sk-container-id-1 div.sk-label input.sk-toggleable__control:checked~label.sk-toggleable__label {background-color: #d4ebff;}#sk-container-id-1 input.sk-hidden--visually {border: 0;clip: rect(1px 1px 1px 1px);clip: rect(1px, 1px, 1px, 1px);height: 1px;margin: -1px;overflow: hidden;padding: 0;position: absolute;width: 1px;}#sk-container-id-1 div.sk-estimator {font-family: monospace;background-color: #f0f8ff;border: 1px dotted black;border-radius: 0.25em;box-sizing: border-box;margin-bottom: 0.5em;}#sk-container-id-1 div.sk-estimator:hover {background-color: #d4ebff;}#sk-container-id-1 div.sk-parallel-item::after {content: \"\";width: 100%;border-bottom: 1px solid gray;flex-grow: 1;}#sk-container-id-1 div.sk-label:hover label.sk-toggleable__label {background-color: #d4ebff;}#sk-container-id-1 div.sk-serial::before {content: \"\";position: absolute;border-left: 1px solid gray;box-sizing: border-box;top: 0;bottom: 0;left: 50%;z-index: 0;}#sk-container-id-1 div.sk-serial {display: flex;flex-direction: column;align-items: center;background-color: white;padding-right: 0.2em;padding-left: 0.2em;position: relative;}#sk-container-id-1 div.sk-item {position: relative;z-index: 1;}#sk-container-id-1 div.sk-parallel {display: flex;align-items: stretch;justify-content: center;background-color: white;position: relative;}#sk-container-id-1 div.sk-item::before, #sk-container-id-1 div.sk-parallel-item::before {content: \"\";position: absolute;border-left: 1px solid gray;box-sizing: border-box;top: 0;bottom: 0;left: 50%;z-index: -1;}#sk-container-id-1 div.sk-parallel-item {display: flex;flex-direction: column;z-index: 1;position: relative;background-color: white;}#sk-container-id-1 div.sk-parallel-item:first-child::after {align-self: flex-end;width: 50%;}#sk-container-id-1 div.sk-parallel-item:last-child::after {align-self: flex-start;width: 50%;}#sk-container-id-1 div.sk-parallel-item:only-child::after {width: 0;}#sk-container-id-1 div.sk-dashed-wrapped {border: 1px dashed gray;margin: 0 0.4em 0.5em 0.4em;box-sizing: border-box;padding-bottom: 0.4em;background-color: white;}#sk-container-id-1 div.sk-label label {font-family: monospace;font-weight: bold;display: inline-block;line-height: 1.2em;}#sk-container-id-1 div.sk-label-container {text-align: center;}#sk-container-id-1 div.sk-container {/* jupyter's `normalize.less` sets `[hidden] { display: none; }` but bootstrap.min.css set `[hidden] { display: none !important; }` so we also need the `!important` here to be able to override the default hidden behavior on the sphinx rendered scikit-learn.org. See: https://github.com/scikit-learn/scikit-learn/issues/21755 */display: inline-block !important;position: relative;}#sk-container-id-1 div.sk-text-repr-fallback {display: none;}</style><div id=\"sk-container-id-1\" class=\"sk-top-container\"><div class=\"sk-text-repr-fallback\"><pre>LinearRegression()</pre><b>In a Jupyter environment, please rerun this cell to show the HTML representation or trust the notebook. <br />On GitHub, the HTML representation is unable to render, please try loading this page with nbviewer.org.</b></div><div class=\"sk-container\" hidden><div class=\"sk-item\"><div class=\"sk-estimator sk-toggleable\"><input class=\"sk-toggleable__control sk-hidden--visually\" id=\"sk-estimator-id-1\" type=\"checkbox\" checked><label for=\"sk-estimator-id-1\" class=\"sk-toggleable__label sk-toggleable__label-arrow\">LinearRegression</label><div class=\"sk-toggleable__content\"><pre>LinearRegression()</pre></div></div></div></div></div>"
      ],
      "text/plain": [
       "LinearRegression()"
      ]
     },
     "execution_count": 64,
     "metadata": {},
     "output_type": "execute_result"
    }
   ],
   "source": [
    "# Training the module\n",
    "lr.fit(X_train,y_train)"
   ]
  },
  {
   "cell_type": "code",
   "execution_count": 65,
   "id": "a00aa80f",
   "metadata": {},
   "outputs": [],
   "source": [
    "y_predicted = lr.predict(X_test)"
   ]
  },
  {
   "cell_type": "code",
   "execution_count": 66,
   "id": "e7667202",
   "metadata": {},
   "outputs": [],
   "source": [
    "r2=r2_score(y_test,y_predicted)"
   ]
  },
  {
   "cell_type": "code",
   "execution_count": 67,
   "id": "68fb6253",
   "metadata": {},
   "outputs": [
    {
     "data": {
      "text/plain": [
       "0.9587616577225732"
      ]
     },
     "execution_count": 67,
     "metadata": {},
     "output_type": "execute_result"
    }
   ],
   "source": [
    "r2"
   ]
  },
  {
   "cell_type": "code",
   "execution_count": 68,
   "id": "407425fb",
   "metadata": {},
   "outputs": [
    {
     "data": {
      "text/plain": [
       "95.87616577225731"
      ]
     },
     "execution_count": 68,
     "metadata": {},
     "output_type": "execute_result"
    }
   ],
   "source": [
    "r2*100"
   ]
  },
  {
   "cell_type": "markdown",
   "id": "b2560211",
   "metadata": {},
   "source": [
    "# Now, Prediciting the sales amount:¶"
   ]
  },
  {
   "cell_type": "code",
   "execution_count": 69,
   "id": "6bef779f",
   "metadata": {},
   "outputs": [],
   "source": [
    "data2['sales_pred']=lr.predict(X)"
   ]
  },
  {
   "cell_type": "code",
   "execution_count": 70,
   "id": "2873b82e",
   "metadata": {},
   "outputs": [
    {
     "data": {
      "text/html": [
       "<div>\n",
       "<style scoped>\n",
       "    .dataframe tbody tr th:only-of-type {\n",
       "        vertical-align: middle;\n",
       "    }\n",
       "\n",
       "    .dataframe tbody tr th {\n",
       "        vertical-align: top;\n",
       "    }\n",
       "\n",
       "    .dataframe thead th {\n",
       "        text-align: right;\n",
       "    }\n",
       "</style>\n",
       "<table border=\"1\" class=\"dataframe\">\n",
       "  <thead>\n",
       "    <tr style=\"text-align: right;\">\n",
       "      <th>3</th>\n",
       "      <th>Retailer</th>\n",
       "      <th>Region</th>\n",
       "      <th>State</th>\n",
       "      <th>City</th>\n",
       "      <th>Product</th>\n",
       "      <th>Price per Unit</th>\n",
       "      <th>Units Sold</th>\n",
       "      <th>Total Sales</th>\n",
       "      <th>Operating Profit</th>\n",
       "      <th>Operating Margin</th>\n",
       "      <th>Method</th>\n",
       "      <th>sales_pred</th>\n",
       "    </tr>\n",
       "  </thead>\n",
       "  <tbody>\n",
       "    <tr>\n",
       "      <th>0</th>\n",
       "      <td>0</td>\n",
       "      <td>0</td>\n",
       "      <td>0</td>\n",
       "      <td>0</td>\n",
       "      <td>0</td>\n",
       "      <td>50</td>\n",
       "      <td>1200</td>\n",
       "      <td>600000</td>\n",
       "      <td>300000</td>\n",
       "      <td>0.5</td>\n",
       "      <td>0</td>\n",
       "      <td>702908.696052</td>\n",
       "    </tr>\n",
       "    <tr>\n",
       "      <th>1</th>\n",
       "      <td>0</td>\n",
       "      <td>0</td>\n",
       "      <td>0</td>\n",
       "      <td>0</td>\n",
       "      <td>1</td>\n",
       "      <td>50</td>\n",
       "      <td>1000</td>\n",
       "      <td>500000</td>\n",
       "      <td>150000</td>\n",
       "      <td>0.3</td>\n",
       "      <td>0</td>\n",
       "      <td>450185.790083</td>\n",
       "    </tr>\n",
       "    <tr>\n",
       "      <th>2</th>\n",
       "      <td>0</td>\n",
       "      <td>0</td>\n",
       "      <td>0</td>\n",
       "      <td>0</td>\n",
       "      <td>2</td>\n",
       "      <td>40</td>\n",
       "      <td>1000</td>\n",
       "      <td>400000</td>\n",
       "      <td>140000</td>\n",
       "      <td>0.35</td>\n",
       "      <td>0</td>\n",
       "      <td>416059.917334</td>\n",
       "    </tr>\n",
       "    <tr>\n",
       "      <th>3</th>\n",
       "      <td>0</td>\n",
       "      <td>0</td>\n",
       "      <td>0</td>\n",
       "      <td>0</td>\n",
       "      <td>3</td>\n",
       "      <td>45</td>\n",
       "      <td>850</td>\n",
       "      <td>382500</td>\n",
       "      <td>133875</td>\n",
       "      <td>0.35</td>\n",
       "      <td>0</td>\n",
       "      <td>383273.192972</td>\n",
       "    </tr>\n",
       "    <tr>\n",
       "      <th>4</th>\n",
       "      <td>0</td>\n",
       "      <td>0</td>\n",
       "      <td>0</td>\n",
       "      <td>0</td>\n",
       "      <td>4</td>\n",
       "      <td>60</td>\n",
       "      <td>900</td>\n",
       "      <td>540000</td>\n",
       "      <td>162000</td>\n",
       "      <td>0.3</td>\n",
       "      <td>0</td>\n",
       "      <td>463924.150188</td>\n",
       "    </tr>\n",
       "  </tbody>\n",
       "</table>\n",
       "</div>"
      ],
      "text/plain": [
       "3  Retailer  Region  State  City  Product Price per Unit  Units Sold  \\\n",
       "0         0       0      0     0        0             50        1200   \n",
       "1         0       0      0     0        1             50        1000   \n",
       "2         0       0      0     0        2             40        1000   \n",
       "3         0       0      0     0        3             45         850   \n",
       "4         0       0      0     0        4             60         900   \n",
       "\n",
       "3  Total Sales  Operating Profit Operating Margin  Method     sales_pred  \n",
       "0       600000            300000              0.5       0  702908.696052  \n",
       "1       500000            150000              0.3       0  450185.790083  \n",
       "2       400000            140000             0.35       0  416059.917334  \n",
       "3       382500            133875             0.35       0  383273.192972  \n",
       "4       540000            162000              0.3       0  463924.150188  "
      ]
     },
     "execution_count": 70,
     "metadata": {},
     "output_type": "execute_result"
    }
   ],
   "source": [
    "data2.head()"
   ]
  },
  {
   "cell_type": "code",
   "execution_count": 71,
   "id": "d129a2a3",
   "metadata": {},
   "outputs": [
    {
     "data": {
      "text/plain": [
       "Text(0.5, 1.0, 'Model correlation scatterplot')"
      ]
     },
     "execution_count": 71,
     "metadata": {},
     "output_type": "execute_result"
    },
    {
     "data": {
      "image/png": "[encoded data removed]",
      "text/plain": [
       "<Figure size 640x480 with 1 Axes>"
      ]
     },
     "metadata": {},
     "output_type": "display_data"
    }
   ],
   "source": [
    "plt.scatter(data2['sales_pred'],data2['Total Sales'])\n",
    "plt.xlabel(\"sales_pred\")\n",
    "plt.ylabel(\"Total Sales\")\n",
    "plt.title('Model correlation scatterplot')"
   ]
  },
  {
   "cell_type": "markdown",
   "id": "d8ccf8ae",
   "metadata": {},
   "source": [
    "# CONCLUSIONS:\n",
    "Highest sales amount is of Men's street footwear.\n",
    "The price range is mostly between 40 to 60.\n",
    "The average price of the product is $45.22\n",
    "Retailers sell more products in-store.\n",
    "Total sales have a high collabration with operation profit, price per unit as well as units sold.\n",
    "Region and retailers can also make impact on the total sales amount.¶"
   ]
  },
  {
   "cell_type": "code",
   "execution_count": null,
   "id": "6a97adec",
   "metadata": {},
   "outputs": [],
   "source": []
  }
 ],
 "metadata": {
  "kernelspec": {
   "display_name": "Python 3 (ipykernel)",
   "language": "python",
   "name": "python3"
  },
  "language_info": {
   "codemirror_mode": {
    "name": "ipython",
    "version": 3
   },
   "file_extension": ".py",
   "mimetype": "text/x-python",
   "name": "python",
   "nbconvert_exporter": "python",
   "pygments_lexer": "ipython3",
   "version": "3.11.3"
  }
 },
 "nbformat": 4,
 "nbformat_minor": 5
}
